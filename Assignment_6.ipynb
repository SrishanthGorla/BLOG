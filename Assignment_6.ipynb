{
  "nbformat": 4,
  "nbformat_minor": 0,
  "metadata": {
    "colab": {
      "provenance": [],
      "authorship_tag": "ABX9TyOWIS4+zk2faA9k3CV6sDpH",
      "include_colab_link": true
    },
    "kernelspec": {
      "name": "python3",
      "display_name": "Python 3"
    },
    "language_info": {
      "name": "python"
    }
  },
  "cells": [
    {
      "cell_type": "markdown",
      "metadata": {
        "id": "view-in-github",
        "colab_type": "text"
      },
      "source": [
        "<a href=\"https://colab.research.google.com/github/SrishanthGorla/BLOG/blob/master/Assignment_6.ipynb\" target=\"_parent\"><img src=\"https://colab.research.google.com/assets/colab-badge.svg\" alt=\"Open In Colab\"/></a>"
      ]
    },
    {
      "cell_type": "code",
      "execution_count": 1,
      "metadata": {
        "colab": {
          "base_uri": "https://localhost:8080/"
        },
        "id": "2-uXem4UELkM",
        "outputId": "14f8423f-7bf6-469d-ab86-ef68b050eb25"
      },
      "outputs": [
        {
          "output_type": "stream",
          "name": "stdout",
          "text": [
            "Customer: Can order food.\n",
            "Delivery Partner: Delivers orders.\n",
            "Restaurant: Prepares food.\n"
          ]
        }
      ],
      "source": [
        "from abc import ABC, abstractmethod\n",
        "\n",
        "# Base User class\n",
        "class User(ABC):\n",
        "    @abstractmethod\n",
        "    def get_role(self):\n",
        "        pass\n",
        "\n",
        "# Concrete User classes\n",
        "class Customer(User):\n",
        "    def get_role(self):\n",
        "        return \"Customer: Can order food.\"\n",
        "\n",
        "class DeliveryPartner(User):\n",
        "    def get_role(self):\n",
        "        return \"Delivery Partner: Delivers orders.\"\n",
        "\n",
        "class Restaurant(User):\n",
        "    def get_role(self):\n",
        "        return \"Restaurant: Prepares food.\"\n",
        "\n",
        "# Factory Interface\n",
        "class UserFactory(ABC):\n",
        "    @abstractmethod\n",
        "    def create_user(self):\n",
        "        pass\n",
        "\n",
        "# Concrete Factory classes\n",
        "class CustomerFactory(UserFactory):\n",
        "    def create_user(self):\n",
        "        return Customer()\n",
        "\n",
        "class DeliveryPartnerFactory(UserFactory):\n",
        "    def create_user(self):\n",
        "        return DeliveryPartner()\n",
        "\n",
        "class RestaurantFactory(UserFactory):\n",
        "    def create_user(self):\n",
        "        return Restaurant()\n",
        "\n",
        "# Client code\n",
        "def user_creation(factory: UserFactory):\n",
        "    user = factory.create_user()\n",
        "    print(user.get_role())\n",
        "\n",
        "# Demonstration of Factory Method usage\n",
        "if __name__ == \"__main__\":\n",
        "    # Different factories for different user types\n",
        "    factories = [CustomerFactory(), DeliveryPartnerFactory(), RestaurantFactory()]\n",
        "\n",
        "    for factory in factories:\n",
        "        user_creation(factory)\n"
      ]
    }
  ]
}